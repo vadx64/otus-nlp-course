{
 "cells": [
  {
   "cell_type": "code",
   "execution_count": 39,
   "id": "cce2cc30-6f5f-4510-8486-90693a192c11",
   "metadata": {},
   "outputs": [],
   "source": [
    "import requests\n",
    "from bs4 import BeautifulSoup\n",
    "import re\n",
    "\n",
    "PAGE_URL = \"https://www.sports.ru/news/top/\"\n",
    "page = requests.get(PAGE_URL)\n",
    "\n",
    "soup = BeautifulSoup(page.content, \"html.parser\")"
   ]
  },
  {
   "cell_type": "code",
   "execution_count": 40,
   "id": "04009290-9394-4ddb-afc9-e139d30fc665",
   "metadata": {},
   "outputs": [],
   "source": [
    "active_panel = soup.find(\"li\", {\"class\": \"panel active-panel\"})\n",
    "short_news_divs = active_panel.find_all(\"div\", {\"class\": \"short-news\"})"
   ]
  },
  {
   "cell_type": "code",
   "execution_count": 41,
   "metadata": {},
   "outputs": [
    {
     "name": "stdout",
     "output_type": "stream",
     "text": [
      "4 ноября \n",
      "19:48\n",
      "/football/1115614770-vinger-siti-doku-zabil-gol-i-sdelal-2-assista-za-7-minut-v-matche-s-bo.html\n",
      "Вингер «Сити» Доку забил и сделал 4 ассиста в матче с «Борнмутом». 3 очка он набрал за 7 минут\n"
     ]
    }
   ],
   "source": [
    "for div in short_news_divs:\n",
    "    print(div.b.text)\n",
    "    p_items = div.find_all('p')\n",
    "    for p in p_items:\n",
    "        time = p.find('span', {'class': 'time'})\n",
    "        short_text = p.find('a', {'class': 'short-text'})\n",
    "        print(time.string)\n",
    "        print(short_text.get('href'))\n",
    "        print(short_text.text)\n",
    "        break\n",
    "    break"
   ]
  },
  {
   "cell_type": "code",
   "execution_count": 42,
   "metadata": {},
   "outputs": [
    {
     "data": {
      "text/plain": [
       "'Mozilla/5.0 (Windows NT 10.0; Win64; x64) AppleWebKit/537.36 (KHTML, like Gecko) Chrome/116.0.0.0 Safari/537.36 Edg/116.0.1938.76'"
      ]
     },
     "execution_count": 42,
     "metadata": {},
     "output_type": "execute_result"
    }
   ],
   "source": [
    "from fake_useragent import UserAgent\n",
    "\n",
    "ua = UserAgent()\n",
    "ua.random"
   ]
  },
  {
   "cell_type": "code",
   "execution_count": 21,
   "metadata": {},
   "outputs": [
    {
     "name": "stdout",
     "output_type": "stream",
     "text": [
      "2023-11-06 15:49:00\n"
     ]
    }
   ],
   "source": [
    "from datetime import datetime\n",
    "import locale\n",
    "\n",
    "dt = '6 ноябрь 2023 15:49'\n",
    "locale.setlocale(locale.LC_TIME, 'rus')\n",
    "result = datetime.strptime(dt, '%d %B %Y %H:%M')\n",
    "print(result)"
   ]
  },
  {
   "cell_type": "code",
   "execution_count": null,
   "metadata": {},
   "outputs": [],
   "source": []
  }
 ],
 "metadata": {
  "kernelspec": {
   "display_name": "Python 3 (ipykernel)",
   "language": "python",
   "name": "python3"
  },
  "language_info": {
   "codemirror_mode": {
    "name": "ipython",
    "version": 3
   },
   "file_extension": ".py",
   "mimetype": "text/x-python",
   "name": "python",
   "nbconvert_exporter": "python",
   "pygments_lexer": "ipython3",
   "version": "3.11.2"
  }
 },
 "nbformat": 4,
 "nbformat_minor": 5
}
